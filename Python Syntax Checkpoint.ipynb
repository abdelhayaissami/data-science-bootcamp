{
 "cells": [
  {
   "cell_type": "code",
   "execution_count": 1,
   "id": "9ba69855",
   "metadata": {},
   "outputs": [
    {
     "name": "stdout",
     "output_type": "stream",
     "text": [
      "Enter the value of n: 5\n",
      "615\n"
     ]
    }
   ],
   "source": [
    "#Question 1\n",
    "no=int(input(\"Enter the value of n: \"))\n",
    "temp=str(no)\n",
    "temp1=temp+temp\n",
    "temp2=temp+temp+temp\n",
    "\n",
    "cal=no+int(temp1)+int(temp2)\n",
    "print(cal)"
   ]
  },
  {
   "cell_type": "code",
   "execution_count": 4,
   "id": "12e57640",
   "metadata": {},
   "outputs": [
    {
     "name": "stdout",
     "output_type": "stream",
     "text": [
      "Enter an integer number11\n",
      "11  is an odd Number\n"
     ]
    }
   ],
   "source": [
    "#Question 2\n",
    "number = int(input(\"Enter an integer number\"))\n",
    "remainder = number % 2\n",
    "if (remainder == 0):\n",
    "    print(number,\" is an even Number\")\n",
    "else:\n",
    "    print(number,\" is an odd Number\")"
   ]
  },
  {
   "cell_type": "code",
   "execution_count": 5,
   "id": "36fc32fd",
   "metadata": {},
   "outputs": [
    {
     "name": "stdout",
     "output_type": "stream",
     "text": [
      "[2002, 2009, 2016, 2023, 2037, 2044, 2051, 2058, 2072, 2079, 2086, 2093, 2107, 2114, 2121, 2128, 2142, 2149, 2156, 2163, 2177, 2184, 2191, 2198, 2212, 2219, 2226, 2233, 2247, 2254, 2261, 2268, 2282, 2289, 2296, 2303, 2317, 2324, 2331, 2338, 2352, 2359, 2366, 2373, 2387, 2394, 2401, 2408, 2422, 2429, 2436, 2443, 2457, 2464, 2471, 2478, 2492, 2499, 2506, 2513, 2527, 2534, 2541, 2548, 2562, 2569, 2576, 2583, 2597, 2604, 2611, 2618, 2632, 2639, 2646, 2653, 2667, 2674, 2681, 2688, 2702, 2709, 2716, 2723, 2737, 2744, 2751, 2758, 2772, 2779, 2786, 2793, 2807, 2814, 2821, 2828, 2842, 2849, 2856, 2863, 2877, 2884, 2891, 2898, 2912, 2919, 2926, 2933, 2947, 2954, 2961, 2968, 2982, 2989, 2996, 3003, 3017, 3024, 3031, 3038, 3052, 3059, 3066, 3073, 3087, 3094, 3101, 3108, 3122, 3129, 3136, 3143, 3157, 3164, 3171, 3178, 3192, 3199]\n"
     ]
    }
   ],
   "source": [
    "#Question 3\n",
    "list = [ x for x in range(2000,3200) if x % 7 == 0 and x % 5 != 0]\n",
    "print(list)"
   ]
  },
  {
   "cell_type": "code",
   "execution_count": 6,
   "id": "2e0e56b0",
   "metadata": {},
   "outputs": [
    {
     "name": "stdout",
     "output_type": "stream",
     "text": [
      "Input a number to compute the factiorial : 8\n",
      "40320\n"
     ]
    }
   ],
   "source": [
    "\n",
    "def factorial(n):\n",
    "    if n == 0:\n",
    "        return 1\n",
    "    else:\n",
    "        return n * factorial(n-1)\n",
    "n=int(input(\"Input a number to compute the factiorial : \"))\n",
    "print(factorial(n))"
   ]
  },
  {
   "cell_type": "code",
   "execution_count": 8,
   "id": "6a54a72b",
   "metadata": {},
   "outputs": [
    {
     "name": "stdout",
     "output_type": "stream",
     "text": [
      "Please Enter your Own String : hello team\n",
      "Original String :   hello team\n",
      "Final String :      hlota\n"
     ]
    }
   ],
   "source": [
    "str1 = input(\"Please Enter your Own String : \")  \n",
    "\n",
    "str2 = ''\n",
    "for i in range(len(str1)):\n",
    "    if(i % 2 == 0):\n",
    "        str2 = str2 + str1[i]\n",
    "        \n",
    "print(\"Original String :  \", str1)\n",
    "print(\"Final String :     \", str2)"
   ]
  },
  {
   "cell_type": "code",
   "execution_count": null,
   "id": "89008389",
   "metadata": {},
   "outputs": [],
   "source": []
  }
 ],
 "metadata": {
  "kernelspec": {
   "display_name": "python3",
   "language": "python",
   "name": "ds"
  },
  "language_info": {
   "codemirror_mode": {
    "name": "ipython",
    "version": 3
   },
   "file_extension": ".py",
   "mimetype": "text/x-python",
   "name": "python",
   "nbconvert_exporter": "python",
   "pygments_lexer": "ipython3",
   "version": "3.7.13"
  }
 },
 "nbformat": 4,
 "nbformat_minor": 5
}
