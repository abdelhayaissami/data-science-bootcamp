{
 "cells": [
  {
   "cell_type": "code",
   "execution_count": 1,
   "metadata": {
    "colab": {
     "base_uri": "https://localhost:8080/",
     "height": 74
    },
    "colab_type": "code",
    "id": "Q_WNbFxuiezS",
    "outputId": "0d00b89e-488e-475b-deb4-8c8eab4c6eb3"
   },
   "outputs": [],
   "source": [
    "from __future__ import print_function\n",
    "import tensorflow as tf\n",
    "from tensorflow import keras\n",
    "from tensorflow.keras.models import Sequential\n",
    "from tensorflow.keras.layers import Dense, Dropout\n",
    "from tensorflow.keras import initializers,regularizers\n",
    "from tensorflow.keras.optimizers import RMSprop\n",
    "import numpy as np \n",
    "import pandas as pd\n",
    "import matplotlib.pyplot as plt\n",
    "from tensorflow.keras.utils import normalize, to_categorical\n",
    "from sklearn.preprocessing import OneHotEncoder\n",
    "from sklearn.model_selection import train_test_split\n",
    "from sklearn.preprocessing import StandardScaler\n",
    "import seaborn as sns\n",
    "from sklearn.linear_model import LogisticRegression\n",
    "from sklearn import metrics\n",
    "sns.set()\n",
    "np.random.seed(100)"
   ]
  },
  {
   "cell_type": "code",
   "execution_count": 2,
   "metadata": {
    "colab": {
     "base_uri": "https://localhost:8080/",
     "height": 343
    },
    "colab_type": "code",
    "id": "kdSb5-Vzip8q",
    "outputId": "b13478bf-7c50-4d70-eecd-9b41ea95b8e9"
   },
   "outputs": [
    {
     "data": {
      "text/html": [
       "<div>\n",
       "<style scoped>\n",
       "    .dataframe tbody tr th:only-of-type {\n",
       "        vertical-align: middle;\n",
       "    }\n",
       "\n",
       "    .dataframe tbody tr th {\n",
       "        vertical-align: top;\n",
       "    }\n",
       "\n",
       "    .dataframe thead th {\n",
       "        text-align: right;\n",
       "    }\n",
       "</style>\n",
       "<table border=\"1\" class=\"dataframe\">\n",
       "  <thead>\n",
       "    <tr style=\"text-align: right;\">\n",
       "      <th></th>\n",
       "      <th>age</th>\n",
       "      <th>job</th>\n",
       "      <th>marital</th>\n",
       "      <th>education</th>\n",
       "      <th>default</th>\n",
       "      <th>balance</th>\n",
       "      <th>housing</th>\n",
       "      <th>loan</th>\n",
       "      <th>contact</th>\n",
       "      <th>day</th>\n",
       "      <th>month</th>\n",
       "      <th>duration</th>\n",
       "      <th>campaign</th>\n",
       "      <th>pdays</th>\n",
       "      <th>previous</th>\n",
       "      <th>poutcome</th>\n",
       "      <th>deposit</th>\n",
       "    </tr>\n",
       "  </thead>\n",
       "  <tbody>\n",
       "    <tr>\n",
       "      <th>0</th>\n",
       "      <td>59</td>\n",
       "      <td>admin.</td>\n",
       "      <td>married</td>\n",
       "      <td>secondary</td>\n",
       "      <td>no</td>\n",
       "      <td>2343</td>\n",
       "      <td>yes</td>\n",
       "      <td>no</td>\n",
       "      <td>unknown</td>\n",
       "      <td>5</td>\n",
       "      <td>may</td>\n",
       "      <td>1042</td>\n",
       "      <td>1</td>\n",
       "      <td>-1</td>\n",
       "      <td>0</td>\n",
       "      <td>unknown</td>\n",
       "      <td>yes</td>\n",
       "    </tr>\n",
       "    <tr>\n",
       "      <th>1</th>\n",
       "      <td>56</td>\n",
       "      <td>admin.</td>\n",
       "      <td>married</td>\n",
       "      <td>secondary</td>\n",
       "      <td>no</td>\n",
       "      <td>45</td>\n",
       "      <td>no</td>\n",
       "      <td>no</td>\n",
       "      <td>unknown</td>\n",
       "      <td>5</td>\n",
       "      <td>may</td>\n",
       "      <td>1467</td>\n",
       "      <td>1</td>\n",
       "      <td>-1</td>\n",
       "      <td>0</td>\n",
       "      <td>unknown</td>\n",
       "      <td>yes</td>\n",
       "    </tr>\n",
       "    <tr>\n",
       "      <th>2</th>\n",
       "      <td>41</td>\n",
       "      <td>technician</td>\n",
       "      <td>married</td>\n",
       "      <td>secondary</td>\n",
       "      <td>no</td>\n",
       "      <td>1270</td>\n",
       "      <td>yes</td>\n",
       "      <td>no</td>\n",
       "      <td>unknown</td>\n",
       "      <td>5</td>\n",
       "      <td>may</td>\n",
       "      <td>1389</td>\n",
       "      <td>1</td>\n",
       "      <td>-1</td>\n",
       "      <td>0</td>\n",
       "      <td>unknown</td>\n",
       "      <td>yes</td>\n",
       "    </tr>\n",
       "    <tr>\n",
       "      <th>3</th>\n",
       "      <td>55</td>\n",
       "      <td>services</td>\n",
       "      <td>married</td>\n",
       "      <td>secondary</td>\n",
       "      <td>no</td>\n",
       "      <td>2476</td>\n",
       "      <td>yes</td>\n",
       "      <td>no</td>\n",
       "      <td>unknown</td>\n",
       "      <td>5</td>\n",
       "      <td>may</td>\n",
       "      <td>579</td>\n",
       "      <td>1</td>\n",
       "      <td>-1</td>\n",
       "      <td>0</td>\n",
       "      <td>unknown</td>\n",
       "      <td>yes</td>\n",
       "    </tr>\n",
       "    <tr>\n",
       "      <th>4</th>\n",
       "      <td>54</td>\n",
       "      <td>admin.</td>\n",
       "      <td>married</td>\n",
       "      <td>tertiary</td>\n",
       "      <td>no</td>\n",
       "      <td>184</td>\n",
       "      <td>no</td>\n",
       "      <td>no</td>\n",
       "      <td>unknown</td>\n",
       "      <td>5</td>\n",
       "      <td>may</td>\n",
       "      <td>673</td>\n",
       "      <td>2</td>\n",
       "      <td>-1</td>\n",
       "      <td>0</td>\n",
       "      <td>unknown</td>\n",
       "      <td>yes</td>\n",
       "    </tr>\n",
       "    <tr>\n",
       "      <th>5</th>\n",
       "      <td>42</td>\n",
       "      <td>management</td>\n",
       "      <td>single</td>\n",
       "      <td>tertiary</td>\n",
       "      <td>no</td>\n",
       "      <td>0</td>\n",
       "      <td>yes</td>\n",
       "      <td>yes</td>\n",
       "      <td>unknown</td>\n",
       "      <td>5</td>\n",
       "      <td>may</td>\n",
       "      <td>562</td>\n",
       "      <td>2</td>\n",
       "      <td>-1</td>\n",
       "      <td>0</td>\n",
       "      <td>unknown</td>\n",
       "      <td>yes</td>\n",
       "    </tr>\n",
       "    <tr>\n",
       "      <th>6</th>\n",
       "      <td>56</td>\n",
       "      <td>management</td>\n",
       "      <td>married</td>\n",
       "      <td>tertiary</td>\n",
       "      <td>no</td>\n",
       "      <td>830</td>\n",
       "      <td>yes</td>\n",
       "      <td>yes</td>\n",
       "      <td>unknown</td>\n",
       "      <td>6</td>\n",
       "      <td>may</td>\n",
       "      <td>1201</td>\n",
       "      <td>1</td>\n",
       "      <td>-1</td>\n",
       "      <td>0</td>\n",
       "      <td>unknown</td>\n",
       "      <td>yes</td>\n",
       "    </tr>\n",
       "    <tr>\n",
       "      <th>7</th>\n",
       "      <td>60</td>\n",
       "      <td>retired</td>\n",
       "      <td>divorced</td>\n",
       "      <td>secondary</td>\n",
       "      <td>no</td>\n",
       "      <td>545</td>\n",
       "      <td>yes</td>\n",
       "      <td>no</td>\n",
       "      <td>unknown</td>\n",
       "      <td>6</td>\n",
       "      <td>may</td>\n",
       "      <td>1030</td>\n",
       "      <td>1</td>\n",
       "      <td>-1</td>\n",
       "      <td>0</td>\n",
       "      <td>unknown</td>\n",
       "      <td>yes</td>\n",
       "    </tr>\n",
       "    <tr>\n",
       "      <th>8</th>\n",
       "      <td>37</td>\n",
       "      <td>technician</td>\n",
       "      <td>married</td>\n",
       "      <td>secondary</td>\n",
       "      <td>no</td>\n",
       "      <td>1</td>\n",
       "      <td>yes</td>\n",
       "      <td>no</td>\n",
       "      <td>unknown</td>\n",
       "      <td>6</td>\n",
       "      <td>may</td>\n",
       "      <td>608</td>\n",
       "      <td>1</td>\n",
       "      <td>-1</td>\n",
       "      <td>0</td>\n",
       "      <td>unknown</td>\n",
       "      <td>yes</td>\n",
       "    </tr>\n",
       "    <tr>\n",
       "      <th>9</th>\n",
       "      <td>28</td>\n",
       "      <td>services</td>\n",
       "      <td>single</td>\n",
       "      <td>secondary</td>\n",
       "      <td>no</td>\n",
       "      <td>5090</td>\n",
       "      <td>yes</td>\n",
       "      <td>no</td>\n",
       "      <td>unknown</td>\n",
       "      <td>6</td>\n",
       "      <td>may</td>\n",
       "      <td>1297</td>\n",
       "      <td>3</td>\n",
       "      <td>-1</td>\n",
       "      <td>0</td>\n",
       "      <td>unknown</td>\n",
       "      <td>yes</td>\n",
       "    </tr>\n",
       "  </tbody>\n",
       "</table>\n",
       "</div>"
      ],
      "text/plain": [
       "   age         job   marital  education default  balance housing loan  \\\n",
       "0   59      admin.   married  secondary      no     2343     yes   no   \n",
       "1   56      admin.   married  secondary      no       45      no   no   \n",
       "2   41  technician   married  secondary      no     1270     yes   no   \n",
       "3   55    services   married  secondary      no     2476     yes   no   \n",
       "4   54      admin.   married   tertiary      no      184      no   no   \n",
       "5   42  management    single   tertiary      no        0     yes  yes   \n",
       "6   56  management   married   tertiary      no      830     yes  yes   \n",
       "7   60     retired  divorced  secondary      no      545     yes   no   \n",
       "8   37  technician   married  secondary      no        1     yes   no   \n",
       "9   28    services    single  secondary      no     5090     yes   no   \n",
       "\n",
       "   contact  day month  duration  campaign  pdays  previous poutcome deposit  \n",
       "0  unknown    5   may      1042         1     -1         0  unknown     yes  \n",
       "1  unknown    5   may      1467         1     -1         0  unknown     yes  \n",
       "2  unknown    5   may      1389         1     -1         0  unknown     yes  \n",
       "3  unknown    5   may       579         1     -1         0  unknown     yes  \n",
       "4  unknown    5   may       673         2     -1         0  unknown     yes  \n",
       "5  unknown    5   may       562         2     -1         0  unknown     yes  \n",
       "6  unknown    6   may      1201         1     -1         0  unknown     yes  \n",
       "7  unknown    6   may      1030         1     -1         0  unknown     yes  \n",
       "8  unknown    6   may       608         1     -1         0  unknown     yes  \n",
       "9  unknown    6   may      1297         3     -1         0  unknown     yes  "
      ]
     },
     "execution_count": 2,
     "metadata": {},
     "output_type": "execute_result"
    }
   ],
   "source": [
    "data=pd.read_csv(\"bank.csv\")\n",
    "data.head(10)"
   ]
  },
  {
   "cell_type": "code",
   "execution_count": 3,
   "metadata": {
    "colab": {
     "base_uri": "https://localhost:8080/",
     "height": 458
    },
    "colab_type": "code",
    "id": "LTPe4Ve3kUYM",
    "outputId": "0d2ac480-9ad2-4fcc-e851-c6be292de6bc"
   },
   "outputs": [
    {
     "name": "stdout",
     "output_type": "stream",
     "text": [
      "<class 'pandas.core.frame.DataFrame'>\n",
      "RangeIndex: 11162 entries, 0 to 11161\n",
      "Data columns (total 17 columns):\n",
      " #   Column     Non-Null Count  Dtype \n",
      "---  ------     --------------  ----- \n",
      " 0   age        11162 non-null  int64 \n",
      " 1   job        11162 non-null  object\n",
      " 2   marital    11162 non-null  object\n",
      " 3   education  11162 non-null  object\n",
      " 4   default    11162 non-null  object\n",
      " 5   balance    11162 non-null  int64 \n",
      " 6   housing    11162 non-null  object\n",
      " 7   loan       11162 non-null  object\n",
      " 8   contact    11162 non-null  object\n",
      " 9   day        11162 non-null  int64 \n",
      " 10  month      11162 non-null  object\n",
      " 11  duration   11162 non-null  int64 \n",
      " 12  campaign   11162 non-null  int64 \n",
      " 13  pdays      11162 non-null  int64 \n",
      " 14  previous   11162 non-null  int64 \n",
      " 15  poutcome   11162 non-null  object\n",
      " 16  deposit    11162 non-null  object\n",
      "dtypes: int64(7), object(10)\n",
      "memory usage: 1.4+ MB\n"
     ]
    }
   ],
   "source": [
    "data.info()"
   ]
  },
  {
   "cell_type": "code",
   "execution_count": 4,
   "metadata": {
    "colab": {
     "base_uri": "https://localhost:8080/",
     "height": 393
    },
    "colab_type": "code",
    "id": "sSSbZZKMjUE8",
    "outputId": "496c5afc-d2dd-4a52-88a1-1c554807ead2"
   },
   "outputs": [
    {
     "data": {
      "text/html": [
       "<div>\n",
       "<style scoped>\n",
       "    .dataframe tbody tr th:only-of-type {\n",
       "        vertical-align: middle;\n",
       "    }\n",
       "\n",
       "    .dataframe tbody tr th {\n",
       "        vertical-align: top;\n",
       "    }\n",
       "\n",
       "    .dataframe thead th {\n",
       "        text-align: right;\n",
       "    }\n",
       "</style>\n",
       "<table border=\"1\" class=\"dataframe\">\n",
       "  <thead>\n",
       "    <tr style=\"text-align: right;\">\n",
       "      <th></th>\n",
       "      <th>age</th>\n",
       "      <th>balance</th>\n",
       "      <th>day</th>\n",
       "      <th>duration</th>\n",
       "      <th>campaign</th>\n",
       "      <th>pdays</th>\n",
       "      <th>previous</th>\n",
       "    </tr>\n",
       "  </thead>\n",
       "  <tbody>\n",
       "    <tr>\n",
       "      <th>count</th>\n",
       "      <td>11162.000000</td>\n",
       "      <td>11162.000000</td>\n",
       "      <td>11162.000000</td>\n",
       "      <td>11162.000000</td>\n",
       "      <td>11162.000000</td>\n",
       "      <td>11162.000000</td>\n",
       "      <td>11162.000000</td>\n",
       "    </tr>\n",
       "    <tr>\n",
       "      <th>mean</th>\n",
       "      <td>41.231948</td>\n",
       "      <td>1528.538524</td>\n",
       "      <td>15.658036</td>\n",
       "      <td>371.993818</td>\n",
       "      <td>2.508421</td>\n",
       "      <td>51.330407</td>\n",
       "      <td>0.832557</td>\n",
       "    </tr>\n",
       "    <tr>\n",
       "      <th>std</th>\n",
       "      <td>11.913369</td>\n",
       "      <td>3225.413326</td>\n",
       "      <td>8.420740</td>\n",
       "      <td>347.128386</td>\n",
       "      <td>2.722077</td>\n",
       "      <td>108.758282</td>\n",
       "      <td>2.292007</td>\n",
       "    </tr>\n",
       "    <tr>\n",
       "      <th>min</th>\n",
       "      <td>18.000000</td>\n",
       "      <td>-6847.000000</td>\n",
       "      <td>1.000000</td>\n",
       "      <td>2.000000</td>\n",
       "      <td>1.000000</td>\n",
       "      <td>-1.000000</td>\n",
       "      <td>0.000000</td>\n",
       "    </tr>\n",
       "    <tr>\n",
       "      <th>25%</th>\n",
       "      <td>32.000000</td>\n",
       "      <td>122.000000</td>\n",
       "      <td>8.000000</td>\n",
       "      <td>138.000000</td>\n",
       "      <td>1.000000</td>\n",
       "      <td>-1.000000</td>\n",
       "      <td>0.000000</td>\n",
       "    </tr>\n",
       "    <tr>\n",
       "      <th>50%</th>\n",
       "      <td>39.000000</td>\n",
       "      <td>550.000000</td>\n",
       "      <td>15.000000</td>\n",
       "      <td>255.000000</td>\n",
       "      <td>2.000000</td>\n",
       "      <td>-1.000000</td>\n",
       "      <td>0.000000</td>\n",
       "    </tr>\n",
       "    <tr>\n",
       "      <th>75%</th>\n",
       "      <td>49.000000</td>\n",
       "      <td>1708.000000</td>\n",
       "      <td>22.000000</td>\n",
       "      <td>496.000000</td>\n",
       "      <td>3.000000</td>\n",
       "      <td>20.750000</td>\n",
       "      <td>1.000000</td>\n",
       "    </tr>\n",
       "    <tr>\n",
       "      <th>max</th>\n",
       "      <td>95.000000</td>\n",
       "      <td>81204.000000</td>\n",
       "      <td>31.000000</td>\n",
       "      <td>3881.000000</td>\n",
       "      <td>63.000000</td>\n",
       "      <td>854.000000</td>\n",
       "      <td>58.000000</td>\n",
       "    </tr>\n",
       "  </tbody>\n",
       "</table>\n",
       "</div>"
      ],
      "text/plain": [
       "                age       balance           day      duration      campaign  \\\n",
       "count  11162.000000  11162.000000  11162.000000  11162.000000  11162.000000   \n",
       "mean      41.231948   1528.538524     15.658036    371.993818      2.508421   \n",
       "std       11.913369   3225.413326      8.420740    347.128386      2.722077   \n",
       "min       18.000000  -6847.000000      1.000000      2.000000      1.000000   \n",
       "25%       32.000000    122.000000      8.000000    138.000000      1.000000   \n",
       "50%       39.000000    550.000000     15.000000    255.000000      2.000000   \n",
       "75%       49.000000   1708.000000     22.000000    496.000000      3.000000   \n",
       "max       95.000000  81204.000000     31.000000   3881.000000     63.000000   \n",
       "\n",
       "              pdays      previous  \n",
       "count  11162.000000  11162.000000  \n",
       "mean      51.330407      0.832557  \n",
       "std      108.758282      2.292007  \n",
       "min       -1.000000      0.000000  \n",
       "25%       -1.000000      0.000000  \n",
       "50%       -1.000000      0.000000  \n",
       "75%       20.750000      1.000000  \n",
       "max      854.000000     58.000000  "
      ]
     },
     "execution_count": 4,
     "metadata": {},
     "output_type": "execute_result"
    }
   ],
   "source": [
    "data.describe()"
   ]
  },
  {
   "cell_type": "code",
   "execution_count": 6,
   "metadata": {
    "colab": {
     "base_uri": "https://localhost:8080/",
     "height": 348
    },
    "colab_type": "code",
    "id": "mumKCdyckMaq",
    "outputId": "7ebd8331-d915-4fc0-eac2-f9ede627e283"
   },
   "outputs": [
    {
     "data": {
      "text/plain": [
       "age          0\n",
       "job          0\n",
       "marital      0\n",
       "education    0\n",
       "default      0\n",
       "balance      0\n",
       "housing      0\n",
       "loan         0\n",
       "contact      0\n",
       "day          0\n",
       "month        0\n",
       "duration     0\n",
       "campaign     0\n",
       "pdays        0\n",
       "previous     0\n",
       "poutcome     0\n",
       "deposit      0\n",
       "dtype: int64"
      ]
     },
     "execution_count": 6,
     "metadata": {},
     "output_type": "execute_result"
    }
   ],
   "source": [
    "data.isnull().sum()"
   ]
  },
  {
   "cell_type": "markdown",
   "metadata": {
    "colab_type": "text",
    "id": "M9E3Zf1nUtkN"
   },
   "source": [
    "# Data Preprocessing"
   ]
  },
  {
   "cell_type": "code",
   "execution_count": 7,
   "metadata": {
    "colab": {
     "base_uri": "https://localhost:8080/",
     "height": 35
    },
    "colab_type": "code",
    "id": "GUHRg_NlkMVT",
    "outputId": "280e6fb3-a1b6-4d93-f88d-d75c2e3f3a30"
   },
   "outputs": [
    {
     "data": {
      "text/plain": [
       "['age', 'balance', 'day', 'duration', 'campaign', 'pdays', 'previous']"
      ]
     },
     "execution_count": 7,
     "metadata": {},
     "output_type": "execute_result"
    }
   ],
   "source": [
    "numerical=\"age\tbalance\tday\tduration\tcampaign\tpdays\tprevious\".split()\n",
    "numerical"
   ]
  },
  {
   "cell_type": "code",
   "execution_count": 8,
   "metadata": {
    "colab": {
     "base_uri": "https://localhost:8080/",
     "height": 182
    },
    "colab_type": "code",
    "id": "Ng_Vxw0AkMO8",
    "outputId": "110faca2-7de3-43a5-ea51-e90c830d6ab4"
   },
   "outputs": [
    {
     "data": {
      "text/plain": [
       "['job',\n",
       " 'marital',\n",
       " 'education',\n",
       " 'default',\n",
       " 'housing',\n",
       " 'loan',\n",
       " 'contact',\n",
       " 'month',\n",
       " 'poutcome']"
      ]
     },
     "execution_count": 8,
     "metadata": {},
     "output_type": "execute_result"
    }
   ],
   "source": [
    "categorical=[col for col in data.columns.to_list() if col not in numerical ]\n",
    "categorical.remove('deposit')\n",
    "categorical"
   ]
  },
  {
   "cell_type": "code",
   "execution_count": 9,
   "metadata": {
    "colab": {
     "base_uri": "https://localhost:8080/",
     "height": 72
    },
    "colab_type": "code",
    "id": "_aqLZFKvbbCD",
    "outputId": "4c4a3c10-e29d-497d-d1fc-978963d50c75"
   },
   "outputs": [
    {
     "name": "stdout",
     "output_type": "stream",
     "text": [
      "(7143, 16)\n",
      "(1786, 16)\n",
      "(2233, 16)\n"
     ]
    }
   ],
   "source": [
    "X_train, X_test, y_train,y_test = train_test_split(data[numerical+categorical], data['deposit'], test_size = 0.2,random_state=100)\n",
    "X_train, X_valid, y_train,y_valid = train_test_split(X_train, y_train, test_size = 0.2,random_state=100)\n",
    "print(X_train.shape)\n",
    "print(X_valid.shape)\n",
    "print(X_test.shape)"
   ]
  },
  {
   "cell_type": "code",
   "execution_count": 10,
   "metadata": {
    "colab": {},
    "colab_type": "code",
    "id": "SlC3UnsPkMIt"
   },
   "outputs": [],
   "source": [
    "#1- normalize numerical data\n",
    "scaler=StandardScaler()\n",
    "scaler.fit(X_train[numerical])\n",
    "X_train_num=scaler.transform(X_train[numerical])\n",
    "X_valid_num=scaler.transform(X_valid[numerical])\n",
    "X_test_num=scaler.transform(X_test[numerical])"
   ]
  },
  {
   "cell_type": "code",
   "execution_count": 11,
   "metadata": {
    "colab": {},
    "colab_type": "code",
    "id": "fN3cKOpSkL-e"
   },
   "outputs": [],
   "source": [
    "#2- encode categorical data\n",
    "onehotx=OneHotEncoder(drop='first',sparse=False)\n",
    "onehotx.fit(X_train[categorical])\n",
    "X_train_cat=onehotx.transform(X_train[categorical])\n",
    "X_valid_cat=onehotx.transform(X_valid[categorical])\n",
    "X_test_cat=onehotx.transform(X_test[categorical])\n",
    "\n",
    "\n",
    "y_train=np.where(y_train=='yes',1,0)\n",
    "y_valid=np.where(y_valid=='yes',1,0)\n",
    "y_test=np.where(y_test=='yes',1,0)"
   ]
  },
  {
   "cell_type": "code",
   "execution_count": 12,
   "metadata": {
    "colab": {},
    "colab_type": "code",
    "id": "IXv89QgFLyYK"
   },
   "outputs": [],
   "source": [
    "# concatenate data\n",
    "\n",
    "X_train=np.concatenate((X_train_num,X_train_cat),axis=1)\n",
    "\n",
    "X_valid=np.concatenate((X_valid_num,X_valid_cat),axis=1)\n",
    "X_test=np.concatenate((X_test_num,X_test_cat),axis=1)"
   ]
  },
  {
   "cell_type": "markdown",
   "metadata": {
    "colab_type": "text",
    "id": "S9GGN4GXU-Qf"
   },
   "source": [
    "# Model construction\n",
    "## Logistic Regression"
   ]
  },
  {
   "cell_type": "code",
   "execution_count": 13,
   "metadata": {
    "colab": {
     "base_uri": "https://localhost:8080/",
     "height": 72
    },
    "colab_type": "code",
    "id": "PFBLtkCkVQbv",
    "outputId": "25f45bcf-1fea-4655-9db5-c8e29ef1d86c"
   },
   "outputs": [
    {
     "name": "stdout",
     "output_type": "stream",
     "text": [
      "Train Accuracy=0.82\n",
      "Validation Accuracy=0.83\n",
      "Test Accuracy=0.83\n"
     ]
    }
   ],
   "source": [
    "logreg = LogisticRegression(random_state=100).fit(X_train, y_train)\n",
    "\n",
    "print(\"Train Accuracy={:.2f}\".format(logreg.score(X_train,y_train)))\n",
    "print(\"Validation Accuracy={:.2f}\".format(logreg.score(X_valid,y_valid)))\n",
    "print(\"Test Accuracy={:.2f}\".format(logreg.score(X_test,y_test)))"
   ]
  },
  {
   "cell_type": "markdown",
   "metadata": {
    "colab_type": "text",
    "id": "6HQ-sX56nPEZ"
   },
   "source": [
    "## ANN Model"
   ]
  },
  {
   "cell_type": "code",
   "execution_count": 14,
   "metadata": {
    "colab": {},
    "colab_type": "code",
    "id": "afPxaNBkmr_1"
   },
   "outputs": [
    {
     "name": "stderr",
     "output_type": "stream",
     "text": [
      "C:\\Users\\hp\\anaconda3\\lib\\site-packages\\keras\\initializers\\initializers_v2.py:120: UserWarning: The initializer HeUniform is unseeded and being called multiple times, which will return identical values  each time (even if the initializer is unseeded). Please update your code to provide a seed to the initializer, or avoid using the same initalizer instance more than once.\n",
      "  warnings.warn(\n"
     ]
    }
   ],
   "source": [
    "# creating a model\n",
    "initializer = tf.keras.initializers.he_uniform()\n",
    "kernelregulizer = regularizers.l2(l=0.0002)\n",
    "activityregulizer = None\n",
    "dropout_rate=0.3\n",
    "model= Sequential([\n",
    "   Dense(512, input_dim = 42, activation='relu',kernel_initializer=initializer,bias_initializer='ones',activity_regularizer=activityregulizer,kernel_regularizer=kernelregulizer),\n",
    "   Dropout(dropout_rate),  \n",
    "   Dense(512, activation='relu',kernel_initializer=initializer,bias_initializer='ones',activity_regularizer=activityregulizer,kernel_regularizer=kernelregulizer),\n",
    "   Dropout(dropout_rate), \n",
    "   Dense(512, activation='relu',kernel_initializer=initializer,bias_initializer='ones',activity_regularizer=activityregulizer,kernel_regularizer=kernelregulizer),\n",
    "   Dropout(dropout_rate), \n",
    "   Dense(512, activation='relu',kernel_initializer=initializer,bias_initializer='ones',activity_regularizer=activityregulizer,kernel_regularizer=kernelregulizer),\n",
    "   Dropout(dropout_rate), \n",
    "   Dense(1, activation='sigmoid',kernel_initializer=initializer,bias_initializer='ones',activity_regularizer=activityregulizer,kernel_regularizer=kernelregulizer) ])"
   ]
  },
  {
   "cell_type": "code",
   "execution_count": 15,
   "metadata": {
    "colab": {},
    "colab_type": "code",
    "id": "WLEpAufCmrmb"
   },
   "outputs": [],
   "source": [
    "opt = keras.optimizers.Adam(learning_rate=0.0005)\n",
    "model.compile(loss='binary_crossentropy', optimizer=opt, metrics=[\"accuracy\"])\n",
    "#print(model.get_weights())"
   ]
  },
  {
   "cell_type": "code",
   "execution_count": 16,
   "metadata": {
    "colab": {
     "base_uri": "https://localhost:8080/",
     "height": 1000
    },
    "colab_type": "code",
    "id": "fdHv7h8zmraL",
    "outputId": "2b432c6c-84af-4ea5-db05-1e5d033b18f8"
   },
   "outputs": [
    {
     "name": "stdout",
     "output_type": "stream",
     "text": [
      "Epoch 1/100\n",
      "224/224 [==============================] - 9s 25ms/step - loss: 1.8606 - accuracy: 0.6660 - val_loss: 1.3593 - val_accuracy: 0.7200\n",
      "Epoch 2/100\n",
      "224/224 [==============================] - 5s 22ms/step - loss: 1.3533 - accuracy: 0.7476 - val_loss: 1.2195 - val_accuracy: 0.8007\n",
      "Epoch 3/100\n",
      "224/224 [==============================] - 5s 22ms/step - loss: 1.2666 - accuracy: 0.7792 - val_loss: 1.1712 - val_accuracy: 0.8108\n",
      "Epoch 4/100\n",
      "224/224 [==============================] - 5s 22ms/step - loss: 1.2006 - accuracy: 0.7959 - val_loss: 1.1236 - val_accuracy: 0.8303\n",
      "Epoch 5/100\n",
      "224/224 [==============================] - 5s 23ms/step - loss: 1.1634 - accuracy: 0.7980 - val_loss: 1.1114 - val_accuracy: 0.8231\n",
      "Epoch 6/100\n",
      "224/224 [==============================] - 5s 22ms/step - loss: 1.1265 - accuracy: 0.8064 - val_loss: 1.0723 - val_accuracy: 0.8309\n",
      "Epoch 7/100\n",
      "224/224 [==============================] - 5s 24ms/step - loss: 1.0836 - accuracy: 0.8138 - val_loss: 1.0343 - val_accuracy: 0.8376\n",
      "Epoch 8/100\n",
      "224/224 [==============================] - 5s 22ms/step - loss: 1.0616 - accuracy: 0.8134 - val_loss: 1.0063 - val_accuracy: 0.8359\n",
      "Epoch 9/100\n",
      "224/224 [==============================] - 5s 23ms/step - loss: 1.0260 - accuracy: 0.8151 - val_loss: 1.0032 - val_accuracy: 0.8242\n",
      "Epoch 10/100\n",
      "224/224 [==============================] - 5s 24ms/step - loss: 0.9919 - accuracy: 0.8170 - val_loss: 0.9561 - val_accuracy: 0.8303\n",
      "Epoch 11/100\n",
      "224/224 [==============================] - 5s 23ms/step - loss: 0.9597 - accuracy: 0.8204 - val_loss: 0.9195 - val_accuracy: 0.8404\n",
      "Epoch 12/100\n",
      "224/224 [==============================] - 5s 23ms/step - loss: 0.9264 - accuracy: 0.8233 - val_loss: 0.8972 - val_accuracy: 0.8359\n",
      "Epoch 13/100\n",
      "224/224 [==============================] - 5s 24ms/step - loss: 0.8919 - accuracy: 0.8246 - val_loss: 0.8642 - val_accuracy: 0.8399\n",
      "Epoch 14/100\n",
      "224/224 [==============================] - 5s 22ms/step - loss: 0.8678 - accuracy: 0.8214 - val_loss: 0.8334 - val_accuracy: 0.8309\n",
      "Epoch 15/100\n",
      "224/224 [==============================] - 5s 22ms/step - loss: 0.8358 - accuracy: 0.8285 - val_loss: 0.8100 - val_accuracy: 0.8387\n",
      "Epoch 16/100\n",
      "224/224 [==============================] - 5s 23ms/step - loss: 0.8074 - accuracy: 0.8275 - val_loss: 0.7822 - val_accuracy: 0.8303\n",
      "Epoch 17/100\n",
      "224/224 [==============================] - 5s 22ms/step - loss: 0.7820 - accuracy: 0.8274 - val_loss: 0.7566 - val_accuracy: 0.8365\n",
      "Epoch 18/100\n",
      "224/224 [==============================] - 5s 22ms/step - loss: 0.7550 - accuracy: 0.8293 - val_loss: 0.7229 - val_accuracy: 0.8393\n",
      "Epoch 19/100\n",
      "224/224 [==============================] - 5s 22ms/step - loss: 0.7247 - accuracy: 0.8335 - val_loss: 0.6994 - val_accuracy: 0.8376\n",
      "Epoch 20/100\n",
      "224/224 [==============================] - 5s 22ms/step - loss: 0.7001 - accuracy: 0.8347 - val_loss: 0.6757 - val_accuracy: 0.8410\n",
      "Epoch 21/100\n",
      "224/224 [==============================] - 5s 23ms/step - loss: 0.6759 - accuracy: 0.8366 - val_loss: 0.6666 - val_accuracy: 0.8292\n",
      "Epoch 22/100\n",
      "224/224 [==============================] - 5s 23ms/step - loss: 0.6615 - accuracy: 0.8317 - val_loss: 0.6411 - val_accuracy: 0.8270\n",
      "Epoch 23/100\n",
      "224/224 [==============================] - 6s 25ms/step - loss: 0.6385 - accuracy: 0.8330 - val_loss: 0.6195 - val_accuracy: 0.8331\n",
      "Epoch 24/100\n",
      "224/224 [==============================] - 5s 22ms/step - loss: 0.6168 - accuracy: 0.8355 - val_loss: 0.6033 - val_accuracy: 0.8343\n",
      "Epoch 25/100\n",
      "224/224 [==============================] - 5s 22ms/step - loss: 0.5989 - accuracy: 0.8370 - val_loss: 0.5853 - val_accuracy: 0.8326\n",
      "Epoch 26/100\n",
      "224/224 [==============================] - 5s 23ms/step - loss: 0.5813 - accuracy: 0.8344 - val_loss: 0.5643 - val_accuracy: 0.8415\n",
      "Epoch 27/100\n",
      "224/224 [==============================] - 5s 23ms/step - loss: 0.5644 - accuracy: 0.8369 - val_loss: 0.5480 - val_accuracy: 0.8427\n",
      "Epoch 28/100\n",
      "224/224 [==============================] - 5s 22ms/step - loss: 0.5466 - accuracy: 0.8362 - val_loss: 0.5401 - val_accuracy: 0.8387\n",
      "Epoch 29/100\n",
      "224/224 [==============================] - 5s 23ms/step - loss: 0.5374 - accuracy: 0.8386 - val_loss: 0.5285 - val_accuracy: 0.8393\n",
      "Epoch 30/100\n",
      "224/224 [==============================] - 5s 22ms/step - loss: 0.5239 - accuracy: 0.8375 - val_loss: 0.5152 - val_accuracy: 0.8376\n",
      "Epoch 31/100\n",
      "224/224 [==============================] - 5s 22ms/step - loss: 0.5131 - accuracy: 0.8368 - val_loss: 0.5073 - val_accuracy: 0.8376\n",
      "Epoch 32/100\n",
      "224/224 [==============================] - 5s 22ms/step - loss: 0.5017 - accuracy: 0.8429 - val_loss: 0.4909 - val_accuracy: 0.8387\n",
      "Epoch 33/100\n",
      "224/224 [==============================] - 5s 22ms/step - loss: 0.5010 - accuracy: 0.8354 - val_loss: 0.4944 - val_accuracy: 0.8387\n",
      "Epoch 34/100\n",
      "224/224 [==============================] - 5s 22ms/step - loss: 0.4872 - accuracy: 0.8384 - val_loss: 0.4926 - val_accuracy: 0.8326\n",
      "Epoch 35/100\n",
      "224/224 [==============================] - 5s 23ms/step - loss: 0.4799 - accuracy: 0.8383 - val_loss: 0.4770 - val_accuracy: 0.8393\n",
      "Epoch 36/100\n",
      "224/224 [==============================] - 5s 24ms/step - loss: 0.4714 - accuracy: 0.8372 - val_loss: 0.4666 - val_accuracy: 0.8443\n",
      "Epoch 37/100\n",
      "224/224 [==============================] - 5s 24ms/step - loss: 0.4676 - accuracy: 0.8375 - val_loss: 0.4669 - val_accuracy: 0.8477\n",
      "Epoch 38/100\n",
      "224/224 [==============================] - 5s 22ms/step - loss: 0.4638 - accuracy: 0.8383 - val_loss: 0.4597 - val_accuracy: 0.8432\n",
      "Epoch 39/100\n",
      "224/224 [==============================] - 5s 23ms/step - loss: 0.4556 - accuracy: 0.8379 - val_loss: 0.4671 - val_accuracy: 0.8404\n",
      "Epoch 40/100\n",
      "224/224 [==============================] - 5s 23ms/step - loss: 0.4518 - accuracy: 0.8426 - val_loss: 0.4481 - val_accuracy: 0.8455\n",
      "Epoch 41/100\n",
      "224/224 [==============================] - 5s 23ms/step - loss: 0.4444 - accuracy: 0.8452 - val_loss: 0.4486 - val_accuracy: 0.8427\n",
      "Epoch 42/100\n",
      "224/224 [==============================] - 5s 23ms/step - loss: 0.4486 - accuracy: 0.8414 - val_loss: 0.4435 - val_accuracy: 0.8382\n",
      "Epoch 43/100\n",
      "224/224 [==============================] - 5s 22ms/step - loss: 0.4451 - accuracy: 0.8419 - val_loss: 0.4436 - val_accuracy: 0.8365\n",
      "Epoch 44/100\n",
      "224/224 [==============================] - 5s 23ms/step - loss: 0.4411 - accuracy: 0.8401 - val_loss: 0.4374 - val_accuracy: 0.8399\n",
      "Epoch 45/100\n",
      "224/224 [==============================] - 5s 23ms/step - loss: 0.4415 - accuracy: 0.8408 - val_loss: 0.4455 - val_accuracy: 0.8443\n",
      "Epoch 46/100\n",
      "224/224 [==============================] - 5s 23ms/step - loss: 0.4335 - accuracy: 0.8435 - val_loss: 0.4426 - val_accuracy: 0.8365\n",
      "Epoch 47/100\n",
      "224/224 [==============================] - 5s 24ms/step - loss: 0.4372 - accuracy: 0.8419 - val_loss: 0.4410 - val_accuracy: 0.8499\n",
      "Epoch 48/100\n",
      "224/224 [==============================] - 5s 25ms/step - loss: 0.4318 - accuracy: 0.8438 - val_loss: 0.4318 - val_accuracy: 0.8399\n",
      "Epoch 49/100\n",
      "224/224 [==============================] - 5s 23ms/step - loss: 0.4310 - accuracy: 0.8424 - val_loss: 0.4536 - val_accuracy: 0.8432\n",
      "Epoch 50/100\n",
      "224/224 [==============================] - 5s 23ms/step - loss: 0.4274 - accuracy: 0.8485 - val_loss: 0.4382 - val_accuracy: 0.8399\n",
      "Epoch 51/100\n",
      "224/224 [==============================] - 5s 23ms/step - loss: 0.4260 - accuracy: 0.8415 - val_loss: 0.4643 - val_accuracy: 0.8225\n",
      "Epoch 52/100\n",
      "224/224 [==============================] - 5s 23ms/step - loss: 0.4248 - accuracy: 0.8445 - val_loss: 0.4356 - val_accuracy: 0.8404\n",
      "Epoch 53/100\n",
      "224/224 [==============================] - 6s 25ms/step - loss: 0.4230 - accuracy: 0.8440 - val_loss: 0.4349 - val_accuracy: 0.8410\n",
      "Epoch 54/100\n",
      "224/224 [==============================] - 5s 24ms/step - loss: 0.4195 - accuracy: 0.8466 - val_loss: 0.4322 - val_accuracy: 0.8511\n",
      "Epoch 55/100\n",
      "224/224 [==============================] - 5s 23ms/step - loss: 0.4186 - accuracy: 0.8459 - val_loss: 0.4250 - val_accuracy: 0.8427\n",
      "Epoch 56/100\n",
      "224/224 [==============================] - 5s 23ms/step - loss: 0.4158 - accuracy: 0.8501 - val_loss: 0.4413 - val_accuracy: 0.8421\n",
      "Epoch 57/100\n"
     ]
    },
    {
     "name": "stdout",
     "output_type": "stream",
     "text": [
      "224/224 [==============================] - 5s 21ms/step - loss: 0.4203 - accuracy: 0.8468 - val_loss: 0.4203 - val_accuracy: 0.8477\n",
      "Epoch 58/100\n",
      "224/224 [==============================] - 5s 21ms/step - loss: 0.4185 - accuracy: 0.8473 - val_loss: 0.4217 - val_accuracy: 0.8438\n",
      "Epoch 59/100\n",
      "224/224 [==============================] - 5s 22ms/step - loss: 0.4196 - accuracy: 0.8449 - val_loss: 0.4303 - val_accuracy: 0.8460\n"
     ]
    }
   ],
   "source": [
    "stopcallback = tf.keras.callbacks.EarlyStopping(monitor='loss', patience=3,min_delta=0.001)\n",
    "history = model.fit(X_train, y_train, validation_data=(X_valid, y_valid), epochs= 100,verbose=1,callbacks=[stopcallback])\n"
   ]
  },
  {
   "cell_type": "code",
   "execution_count": 21,
   "metadata": {
    "colab": {
     "base_uri": "https://localhost:8080/",
     "height": 495
    },
    "colab_type": "code",
    "id": "Ieu4lm0EvAqZ",
    "outputId": "4eaa73af-60d1-40af-dae7-6c60c7f834d9"
   },
   "outputs": [
    {
     "name": "stdout",
     "output_type": "stream",
     "text": [
      "Model: \"sequential\"\n",
      "_________________________________________________________________\n",
      " Layer (type)                Output Shape              Param #   \n",
      "=================================================================\n",
      " dense (Dense)               (None, 512)               22016     \n",
      "                                                                 \n",
      " dropout (Dropout)           (None, 512)               0         \n",
      "                                                                 \n",
      " dense_1 (Dense)             (None, 512)               262656    \n",
      "                                                                 \n",
      " dropout_1 (Dropout)         (None, 512)               0         \n",
      "                                                                 \n",
      " dense_2 (Dense)             (None, 512)               262656    \n",
      "                                                                 \n",
      " dropout_2 (Dropout)         (None, 512)               0         \n",
      "                                                                 \n",
      " dense_3 (Dense)             (None, 512)               262656    \n",
      "                                                                 \n",
      " dropout_3 (Dropout)         (None, 512)               0         \n",
      "                                                                 \n",
      " dense_4 (Dense)             (None, 1)                 513       \n",
      "                                                                 \n",
      "=================================================================\n",
      "Total params: 810,497\n",
      "Trainable params: 810,497\n",
      "Non-trainable params: 0\n",
      "_________________________________________________________________\n"
     ]
    }
   ],
   "source": [
    "model.summary()"
   ]
  },
  {
   "cell_type": "code",
   "execution_count": 22,
   "metadata": {
    "colab": {
     "base_uri": "https://localhost:8080/",
     "height": 899
    },
    "colab_type": "code",
    "id": "I9DjVIPLvDw8",
    "outputId": "3b852f94-fd39-4e33-95c9-c9222d3ed0c0"
   },
   "outputs": [
    {
     "data": {
      "image/png": "[encoded data removed]",
      "text/plain": [
       "<Figure size 432x288 with 1 Axes>"
      ]
     },
     "metadata": {},
     "output_type": "display_data"
    }
   ],
   "source": [
    "plt.plot(history.history['accuracy'])\n",
    "plt.plot(history.history['val_accuracy'])\n",
    "plt.title('model accuracy')\n",
    "plt.ylabel('accuracy')\n",
    "plt.xlabel('epoch')\n",
    "plt.legend(['train', 'validation'], loc='upper left')\n",
    "plt.show()"
   ]
  },
  {
   "cell_type": "code",
   "execution_count": 23,
   "metadata": {
    "colab": {
     "base_uri": "https://localhost:8080/",
     "height": 899
    },
    "colab_type": "code",
    "id": "wfC9Qvl9vFtJ",
    "outputId": "b0071421-221e-4f3d-91e5-28027fcd6e0b"
   },
   "outputs": [
    {
     "data": {
      "image/png": "[encoded data removed]",
      "text/plain": [
       "<Figure size 432x288 with 1 Axes>"
      ]
     },
     "metadata": {},
     "output_type": "display_data"
    }
   ],
   "source": [
    "plt.plot(history.history['loss'])\n",
    "plt.plot(history.history['val_loss'])\n",
    "plt.title('model loss')\n",
    "plt.ylabel('loss')\n",
    "plt.xlabel('epoch')\n",
    "plt.legend(['train', 'validation'], loc='upper left')\n",
    "plt.show()"
   ]
  },
  {
   "cell_type": "code",
   "execution_count": 24,
   "metadata": {
    "colab": {
     "base_uri": "https://localhost:8080/",
     "height": 54
    },
    "colab_type": "code",
    "id": "K5VozF2tvIrl",
    "outputId": "4a71b40b-8415-4a38-f128-feeca7b62470"
   },
   "outputs": [
    {
     "name": "stdout",
     "output_type": "stream",
     "text": [
      "70/70 [==============================] - 0s 4ms/step - loss: 0.4185 - accuracy: 0.8473\n"
     ]
    },
    {
     "data": {
      "text/plain": [
       "[0.4184844493865967, 0.8472906351089478]"
      ]
     },
     "execution_count": 24,
     "metadata": {},
     "output_type": "execute_result"
    }
   ],
   "source": [
    "model.evaluate(\n",
    "  X_test,\n",
    "  y_test)"
   ]
  },
  {
   "cell_type": "code",
   "execution_count": null,
   "metadata": {},
   "outputs": [],
   "source": []
  }
 ],
 "metadata": {
  "colab": {
   "authorship_tag": "ABX9TyMaDKgtkxp87xW7/ooDYMZk",
   "collapsed_sections": [],
   "include_colab_link": true,
   "name": "CP2_Deep_Feed_Forward.ipynb",
   "provenance": []
  },
  "kernelspec": {
   "display_name": "Python 3 (ipykernel)",
   "language": "python",
   "name": "python3"
  },
  "language_info": {
   "codemirror_mode": {
    "name": "ipython",
    "version": 3
   },
   "file_extension": ".py",
   "mimetype": "text/x-python",
   "name": "python",
   "nbconvert_exporter": "python",
   "pygments_lexer": "ipython3",
   "version": "3.9.12"
  }
 },
 "nbformat": 4,
 "nbformat_minor": 1
}
