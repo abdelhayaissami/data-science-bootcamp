{
 "cells": [
  {
   "cell_type": "markdown",
   "id": "ec854393",
   "metadata": {},
   "source": [
    "# first API request"
   ]
  },
  {
   "cell_type": "markdown",
   "id": "d1098e0a",
   "metadata": {},
   "source": [
    "Import library"
   ]
  },
  {
   "cell_type": "code",
   "execution_count": 1,
   "id": "e4ea9939",
   "metadata": {},
   "outputs": [],
   "source": [
    "import requests\n",
    "import json\n",
    "import pandas as pd"
   ]
  },
  {
   "cell_type": "markdown",
   "id": "1819db3e",
   "metadata": {},
   "source": [
    "Make a get request to get the latest position  of the space station"
   ]
  },
  {
   "cell_type": "code",
   "execution_count": 2,
   "id": "eef9ce3f",
   "metadata": {},
   "outputs": [],
   "source": [
    "response = requests.get(\"http://api.open-notify.org/astros.json\")"
   ]
  },
  {
   "cell_type": "markdown",
   "id": "a7a05938",
   "metadata": {},
   "source": [
    "Print the status of the code response - Should return 200"
   ]
  },
  {
   "cell_type": "code",
   "execution_count": 3,
   "id": "b1cc836e",
   "metadata": {},
   "outputs": [
    {
     "name": "stdout",
     "output_type": "stream",
     "text": [
      "200\n"
     ]
    }
   ],
   "source": [
    "print(response.status_code)"
   ]
  },
  {
   "cell_type": "markdown",
   "id": "fe9dbbcd",
   "metadata": {},
   "source": [
    "Extract data from the this API using json"
   ]
  },
  {
   "cell_type": "code",
   "execution_count": 4,
   "id": "2f31963f",
   "metadata": {},
   "outputs": [
    {
     "name": "stdout",
     "output_type": "stream",
     "text": [
      "{'message': 'success', 'people': [{'name': 'Cai Xuzhe', 'craft': 'Tiangong'}, {'name': 'Chen Dong', 'craft': 'Tiangong'}, {'name': 'Liu Yang', 'craft': 'Tiangong'}, {'name': 'Sergey Prokopyev', 'craft': 'ISS'}, {'name': 'Dmitry Petelin', 'craft': 'ISS'}, {'name': 'Frank Rubio', 'craft': 'ISS'}, {'name': 'Nicole Mann', 'craft': 'ISS'}, {'name': 'Josh Cassada', 'craft': 'ISS'}, {'name': 'Koichi Wakata', 'craft': 'ISS'}, {'name': 'Anna Kikina', 'craft': 'ISS'}], 'number': 10}\n"
     ]
    }
   ],
   "source": [
    "response = requests.get(\"http://api.open-notify.org/astros.json\")\n",
    "data = response.json()\n",
    "print(data)"
   ]
  },
  {
   "cell_type": "markdown",
   "id": "f4da59e5",
   "metadata": {},
   "source": [
    "Create a dataframe containing final data"
   ]
  },
  {
   "cell_type": "code",
   "execution_count": 5,
   "id": "9f2d184b",
   "metadata": {},
   "outputs": [
    {
     "data": {
      "text/html": [
       "<div>\n",
       "<style scoped>\n",
       "    .dataframe tbody tr th:only-of-type {\n",
       "        vertical-align: middle;\n",
       "    }\n",
       "\n",
       "    .dataframe tbody tr th {\n",
       "        vertical-align: top;\n",
       "    }\n",
       "\n",
       "    .dataframe thead th {\n",
       "        text-align: right;\n",
       "    }\n",
       "</style>\n",
       "<table border=\"1\" class=\"dataframe\">\n",
       "  <thead>\n",
       "    <tr style=\"text-align: right;\">\n",
       "      <th></th>\n",
       "      <th>message</th>\n",
       "      <th>people</th>\n",
       "      <th>number</th>\n",
       "    </tr>\n",
       "  </thead>\n",
       "  <tbody>\n",
       "    <tr>\n",
       "      <th>0</th>\n",
       "      <td>success</td>\n",
       "      <td>{'name': 'Cai Xuzhe', 'craft': 'Tiangong'}</td>\n",
       "      <td>10</td>\n",
       "    </tr>\n",
       "    <tr>\n",
       "      <th>1</th>\n",
       "      <td>success</td>\n",
       "      <td>{'name': 'Chen Dong', 'craft': 'Tiangong'}</td>\n",
       "      <td>10</td>\n",
       "    </tr>\n",
       "    <tr>\n",
       "      <th>2</th>\n",
       "      <td>success</td>\n",
       "      <td>{'name': 'Liu Yang', 'craft': 'Tiangong'}</td>\n",
       "      <td>10</td>\n",
       "    </tr>\n",
       "    <tr>\n",
       "      <th>3</th>\n",
       "      <td>success</td>\n",
       "      <td>{'name': 'Sergey Prokopyev', 'craft': 'ISS'}</td>\n",
       "      <td>10</td>\n",
       "    </tr>\n",
       "    <tr>\n",
       "      <th>4</th>\n",
       "      <td>success</td>\n",
       "      <td>{'name': 'Dmitry Petelin', 'craft': 'ISS'}</td>\n",
       "      <td>10</td>\n",
       "    </tr>\n",
       "    <tr>\n",
       "      <th>5</th>\n",
       "      <td>success</td>\n",
       "      <td>{'name': 'Frank Rubio', 'craft': 'ISS'}</td>\n",
       "      <td>10</td>\n",
       "    </tr>\n",
       "    <tr>\n",
       "      <th>6</th>\n",
       "      <td>success</td>\n",
       "      <td>{'name': 'Nicole Mann', 'craft': 'ISS'}</td>\n",
       "      <td>10</td>\n",
       "    </tr>\n",
       "    <tr>\n",
       "      <th>7</th>\n",
       "      <td>success</td>\n",
       "      <td>{'name': 'Josh Cassada', 'craft': 'ISS'}</td>\n",
       "      <td>10</td>\n",
       "    </tr>\n",
       "    <tr>\n",
       "      <th>8</th>\n",
       "      <td>success</td>\n",
       "      <td>{'name': 'Koichi Wakata', 'craft': 'ISS'}</td>\n",
       "      <td>10</td>\n",
       "    </tr>\n",
       "    <tr>\n",
       "      <th>9</th>\n",
       "      <td>success</td>\n",
       "      <td>{'name': 'Anna Kikina', 'craft': 'ISS'}</td>\n",
       "      <td>10</td>\n",
       "    </tr>\n",
       "  </tbody>\n",
       "</table>\n",
       "</div>"
      ],
      "text/plain": [
       "   message                                        people  number\n",
       "0  success    {'name': 'Cai Xuzhe', 'craft': 'Tiangong'}      10\n",
       "1  success    {'name': 'Chen Dong', 'craft': 'Tiangong'}      10\n",
       "2  success     {'name': 'Liu Yang', 'craft': 'Tiangong'}      10\n",
       "3  success  {'name': 'Sergey Prokopyev', 'craft': 'ISS'}      10\n",
       "4  success    {'name': 'Dmitry Petelin', 'craft': 'ISS'}      10\n",
       "5  success       {'name': 'Frank Rubio', 'craft': 'ISS'}      10\n",
       "6  success       {'name': 'Nicole Mann', 'craft': 'ISS'}      10\n",
       "7  success      {'name': 'Josh Cassada', 'craft': 'ISS'}      10\n",
       "8  success     {'name': 'Koichi Wakata', 'craft': 'ISS'}      10\n",
       "9  success       {'name': 'Anna Kikina', 'craft': 'ISS'}      10"
      ]
     },
     "execution_count": 5,
     "metadata": {},
     "output_type": "execute_result"
    }
   ],
   "source": [
    "df =pd.DataFrame(data)\n",
    "df"
   ]
  },
  {
   "cell_type": "code",
   "execution_count": null,
   "id": "69550353",
   "metadata": {},
   "outputs": [],
   "source": []
  }
 ],
 "metadata": {
  "kernelspec": {
   "display_name": "python3",
   "language": "python",
   "name": "ds"
  },
  "language_info": {
   "codemirror_mode": {
    "name": "ipython",
    "version": 3
   },
   "file_extension": ".py",
   "mimetype": "text/x-python",
   "name": "python",
   "nbconvert_exporter": "python",
   "pygments_lexer": "ipython3",
   "version": "3.7.13"
  }
 },
 "nbformat": 4,
 "nbformat_minor": 5
}
