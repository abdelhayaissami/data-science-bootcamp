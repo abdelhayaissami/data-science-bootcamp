{
 "cells": [
  {
   "cell_type": "code",
   "execution_count": 18,
   "id": "67eb368a",
   "metadata": {},
   "outputs": [
    {
     "name": "stdout",
     "output_type": "stream",
     "text": [
      "this program computes mean, median, and standart deviation.\n",
      "Enter a number (<Enter> to quit) >> 5\n",
      "Enter a number (<Enter> to quit) >> 7\n",
      "Enter a number (<Enter> to quit) >> 3\n",
      "Enter a number (<Enter> to quit) >> \n",
      "\n",
      "The mean is 5.0\n",
      "The standard deviation is 2.0\n",
      "The median is 5\n"
     ]
    }
   ],
   "source": [
    "from math import sqrt\n",
    "\n",
    "def getNumbers(): \n",
    "    nums = []   # start with an empty list\n",
    "    #sentinel loop to get numbers\n",
    "    xStr = input(\"Enter a number (<Enter> to quit) >> \")\n",
    "    while xStr != \"\":\n",
    "        x = eval(xStr)\n",
    "        nums.append(x)     #add this value to the list\n",
    "        xStr = input(\"Enter a number (<Enter> to quit) >> \")\n",
    "    return nums\n",
    "    \n",
    "def mean(nums):\n",
    "    sum = 0.0\n",
    "    for num in nums:\n",
    "        sum = sum + num\n",
    "    return sum / len(nums)\n",
    "      \n",
    "def stdDev (nums, xbar):\n",
    "    sumDevSq = 0.0\n",
    "    for num in nums:\n",
    "        dev = num - xbar\n",
    "        sumDevSq = sumDevSq + dev * dev\n",
    "    return sqrt(sumDevSq/(len(nums)-1))\n",
    "    \n",
    "def median(nums):\n",
    "    nums.sort()\n",
    "    size = len(nums)\n",
    "    midPos = size // 2\n",
    "    if size % 2 == 0:\n",
    "        median = (nums[midPos] + nums[midPos-1]) / 2.0\n",
    "    else:\n",
    "        median = nums[midPos]\n",
    "    return median\n",
    "\n",
    "def main ():\n",
    "    print(\"this program computes mean, median, and standart deviation.\")\n",
    "    data = getNumbers()\n",
    "    xbar = mean(data)\n",
    "    std = stdDev(data, xbar)\n",
    "    med = median (data)\n",
    "\n",
    "    print(\"\\nThe mean is\",xbar)\n",
    "    print(\"The standard deviation is\", std)\n",
    "    print(\"The median is\", med)\n",
    "main()\n",
    "    "
   ]
  },
  {
   "cell_type": "code",
   "execution_count": null,
   "id": "c65411d2",
   "metadata": {},
   "outputs": [],
   "source": []
  }
 ],
 "metadata": {
  "kernelspec": {
   "display_name": "python3",
   "language": "python",
   "name": "ds"
  },
  "language_info": {
   "codemirror_mode": {
    "name": "ipython",
    "version": 3
   },
   "file_extension": ".py",
   "mimetype": "text/x-python",
   "name": "python",
   "nbconvert_exporter": "python",
   "pygments_lexer": "ipython3",
   "version": "3.7.13"
  }
 },
 "nbformat": 4,
 "nbformat_minor": 5
}
