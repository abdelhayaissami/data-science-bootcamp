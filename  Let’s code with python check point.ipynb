{
 "cells": [
  {
   "cell_type": "code",
   "execution_count": 2,
   "id": "67fe9b1d",
   "metadata": {},
   "outputs": [
    {
     "name": "stdout",
     "output_type": "stream",
     "text": [
      "-10\n",
      "-9\n",
      "-8\n",
      "-7\n",
      "-6\n",
      "-5\n",
      "-4\n",
      "-3\n",
      "-2\n",
      "-1\n"
     ]
    }
   ],
   "source": [
    "for i in range(-10,0): #Question 1\n",
    "    print(i)"
   ]
  },
  {
   "cell_type": "code",
   "execution_count": 5,
   "id": "06f727db",
   "metadata": {},
   "outputs": [
    {
     "name": "stdout",
     "output_type": "stream",
     "text": [
      "5\n"
     ]
    }
   ],
   "source": [
    "num=75869          #Question 2\n",
    "print(len(str(num)))"
   ]
  },
  {
   "cell_type": "code",
   "execution_count": 30,
   "id": "60ac6fa4",
   "metadata": {},
   "outputs": [
    {
     "name": "stdout",
     "output_type": "stream",
     "text": [
      "Enter an any number : 2\n",
      "Cube of 2 is 8\n"
     ]
    }
   ],
   "source": [
    "def cube(n):                   #Question 3\n",
    "    return n * n * n\n",
    " \n",
    "num = int(input(\"Enter an any number : \"))\n",
    " \n",
    "cb = cube(n)\n",
    " \n",
    "print(\"Cube of {0} is {1}\".format(n, cb))"
   ]
  },
  {
   "cell_type": "code",
   "execution_count": 26,
   "id": "231ad55e",
   "metadata": {},
   "outputs": [
    {
     "name": "stdout",
     "output_type": "stream",
     "text": [
      "enter no. 1: 100\n",
      "enter no. 2: 20\n",
      "120\n"
     ]
    }
   ],
   "source": [
    "n1=int(input(\"enter no. 1: \" ))             #Question 4\n",
    "n2=int(input(\"enter no. 2: \"))\n",
    "p = n1*n2\n",
    "res= (n1+n2) \n",
    "if p < 1000:\n",
    "    print(p)\n",
    "else:\n",
    "    print(res)"
   ]
  },
  {
   "cell_type": "code",
   "execution_count": 31,
   "id": "c80692ac",
   "metadata": {},
   "outputs": [
    {
     "name": "stdout",
     "output_type": "stream",
     "text": [
      "Result is True\n"
     ]
    }
   ],
   "source": [
    "nums = [10, 20, 30, 40, 10]             #Question 5\n",
    "if nums[0] == nums[-1]:\n",
    "    print('Result is True')\n",
    "else:\n",
    "    print('Result is False')"
   ]
  },
  {
   "cell_type": "code",
   "execution_count": 49,
   "id": "5286b98b",
   "metadata": {},
   "outputs": [
    {
     "name": "stdout",
     "output_type": "stream",
     "text": [
      "[10, 20, 23, 11, 17, 13, 43, 24, 36, 12]\n",
      "[10, 20, 24, 36, 12]\n",
      "[23, 11, 17, 13, 43]\n"
     ]
    }
   ],
   "source": [
    "list1 = [10, 20, 23, 11, 17]        #Question 6\n",
    "list2 = [13, 43, 24, 36, 12]\n",
    "list3 = (list1 + list2)\n",
    "listOdd = []\n",
    "listEven = []\n",
    "\n",
    "for num in list3:\n",
    "    if num%2 == 0:\n",
    "        listEven.append(num)\n",
    "    else:\n",
    "        listOdd.append(num) \n",
    "\n",
    "\n",
    "print(list3) \n",
    "print(listEven)\n",
    "print(listOdd)\n",
    "\n",
    "\n"
   ]
  },
  {
   "cell_type": "code",
   "execution_count": 55,
   "id": "371e7623",
   "metadata": {},
   "outputs": [
    {
     "name": "stdout",
     "output_type": "stream",
     "text": [
      "{11: 2, 45: 3, 8: 1, 23: 2, 89: 1}\n"
     ]
    }
   ],
   "source": [
    "def Count(l):               #Question 7\n",
    "    freq = {}\n",
    "    for item in l:\n",
    "        if (item in freq):\n",
    "            freq[item] += 1\n",
    "        else:\n",
    "            freq[item] = 1\n",
    "    print(freq) \n",
    "l = [11, 45, 8, 11, 23, 45, 23, 45, 89]\n",
    "Count(l)"
   ]
  },
  {
   "cell_type": "code",
   "execution_count": 57,
   "id": "5d6892cc",
   "metadata": {},
   "outputs": [
    {
     "name": "stdout",
     "output_type": "stream",
     "text": [
      "Original sets:\n",
      "{65, 42, 78, 83, 23, 57, 29}\n",
      "{67, 73, 43, 48, 83, 57, 29}\n",
      "\n",
      "Remove the intersection of a 2nd set from the 1st set using remove():\n",
      "sn1:  {65, 42, 78, 23}\n",
      "sn2:  {67, 73, 43, 48, 83, 57, 29}\n"
     ]
    }
   ],
   "source": [
    "sn1 = {65, 42, 78, 83, 23, 57, 29}  #Question 8\n",
    "sn2 = {67, 73, 43, 48, 83, 57, 29}\n",
    "print(\"Original sets:\")\n",
    "print(sn1)\n",
    "print(sn2)\n",
    "print(\"\\nRemove the intersection of a 2nd set from the 1st set using remove():\")\n",
    "for i in sn1&sn2:\n",
    "    sn1.remove(i)\n",
    "\n",
    "print(\"sn1: \",sn1)\n",
    "print(\"sn2: \",sn2)"
   ]
  },
  {
   "cell_type": "code",
   "execution_count": null,
   "id": "5a6a8c13",
   "metadata": {},
   "outputs": [],
   "source": []
  }
 ],
 "metadata": {
  "kernelspec": {
   "display_name": "python3",
   "language": "python",
   "name": "ds"
  },
  "language_info": {
   "codemirror_mode": {
    "name": "ipython",
    "version": 3
   },
   "file_extension": ".py",
   "mimetype": "text/x-python",
   "name": "python",
   "nbconvert_exporter": "python",
   "pygments_lexer": "ipython3",
   "version": "3.7.13"
  }
 },
 "nbformat": 4,
 "nbformat_minor": 5
}
