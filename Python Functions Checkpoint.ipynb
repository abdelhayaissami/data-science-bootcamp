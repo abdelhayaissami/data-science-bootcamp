{
 "cells": [
  {
   "cell_type": "code",
   "execution_count": 2,
   "id": "a45587f5",
   "metadata": {},
   "outputs": [
    {
     "name": "stdout",
     "output_type": "stream",
     "text": [
      "Enter First number2\n",
      "Enter Second number5\n",
      "Enter Third number10\n",
      "Maximum Number is ::> 10\n"
     ]
    }
   ],
   "source": [
    "def maximum(a, b, c): #max of three numbers\n",
    "   list = [a, b, c] \n",
    "   return max(list)\n",
    "x = int(input(\"Enter First number\"))\n",
    "y = int(input(\"Enter Second number\"))\n",
    "z = int(input(\"Enter Third number\"))\n",
    "print(\"Maximum Number is ::>\",maximum(x, y, z))"
   ]
  },
  {
   "cell_type": "code",
   "execution_count": 3,
   "id": "09a58515",
   "metadata": {},
   "outputs": [
    {
     "name": "stdout",
     "output_type": "stream",
     "text": [
      "(50, 30)\n"
     ]
    }
   ],
   "source": [
    "def calculation(a, b):# function that return addition and subtraction\n",
    "    addition = a + b\n",
    "    subtraction = a - b\n",
    "    return addition, subtraction\n",
    "res = calculation(40, 10)\n",
    "print(res)"
   ]
  },
  {
   "cell_type": "code",
   "execution_count": 67,
   "id": "2a1e3d96",
   "metadata": {},
   "outputs": [
    {
     "name": "stdout",
     "output_type": "stream",
     "text": [
      "720\n",
      "21\n"
     ]
    }
   ],
   "source": [
    "def sum(numbers): #Question 3\n",
    "    total = 0\n",
    "    for number in numbers:\n",
    "        total += number\n",
    "    return total\n",
    "\n",
    "\n",
    "def multiply(numbers):\n",
    "    total = 1\n",
    "    for number in numbers:\n",
    "        total = total * number\n",
    "    return total\n",
    "numbers=[1,2,3,4,5,6]\n",
    "print(multiply(numbers))\n",
    "print(sum(numbers))"
   ]
  },
  {
   "cell_type": "code",
   "execution_count": 65,
   "id": "10390485",
   "metadata": {},
   "outputs": [
    {
     "name": "stdout",
     "output_type": "stream",
     "text": [
      "9\n",
      "48\n"
     ]
    }
   ],
   "source": [
    "def sum(numbers):\n",
    "    total = 0\n",
    "    for number in numbers:\n",
    "        total += number\n",
    "    return total\n",
    "\n",
    "\n",
    "def multiply(numbers):\n",
    "    total = 1\n",
    "    for number in numbers:\n",
    "        total = total * number\n",
    "    return total\n",
    "def even(numbers):\n",
    "   return numbers[0::2]\n",
    "def odd(numbers):\n",
    "   return numbers[1::2]\n",
    "numbers=[1,2,3,4,5,6]\n",
    "print(sum(even(numbers)))\n",
    "print(multiply(odd(numbers)))"
   ]
  },
  {
   "cell_type": "code",
   "execution_count": 64,
   "id": "882b4080",
   "metadata": {},
   "outputs": [
    {
     "name": "stdout",
     "output_type": "stream",
     "text": [
      " green-red-yellow-black-white\n",
      " green-black-red-white-yellow\n"
     ]
    }
   ],
   "source": [
    "items=[n for n in input().split('-')] #Question 4\n",
    "items.sort()\n",
    "print('-'.join(items))"
   ]
  },
  {
   "cell_type": "code",
   "execution_count": null,
   "id": "04f70a3e",
   "metadata": {},
   "outputs": [],
   "source": []
  }
 ],
 "metadata": {
  "kernelspec": {
   "display_name": "python3",
   "language": "python",
   "name": "ds"
  },
  "language_info": {
   "codemirror_mode": {
    "name": "ipython",
    "version": 3
   },
   "file_extension": ".py",
   "mimetype": "text/x-python",
   "name": "python",
   "nbconvert_exporter": "python",
   "pygments_lexer": "ipython3",
   "version": "3.7.13"
  }
 },
 "nbformat": 4,
 "nbformat_minor": 5
}
