{
 "cells": [
  {
   "cell_type": "code",
   "execution_count": 1,
   "id": "9df2621a",
   "metadata": {},
   "outputs": [],
   "source": [
    "def multiplyList(myList) :\n",
    "     \n",
    "    \n",
    "    result = 1\n",
    "    for x in myList:\n",
    "         result = result * x\n",
    "    return result"
   ]
  },
  {
   "cell_type": "code",
   "execution_count": 2,
   "id": "68999a5d",
   "metadata": {},
   "outputs": [
    {
     "data": {
      "text/plain": [
       "90"
      ]
     },
     "execution_count": 2,
     "metadata": {},
     "output_type": "execute_result"
    }
   ],
   "source": [
    "myliste=[3,5,6]\n",
    "multiplyList(myliste)"
   ]
  },
  {
   "cell_type": "code",
   "execution_count": 6,
   "id": "5661deb3",
   "metadata": {},
   "outputs": [
    {
     "name": "stdout",
     "output_type": "stream",
     "text": [
      "{'a': 400, 'b': 400, 'd': 400, 'c': 300}\n"
     ]
    }
   ],
   "source": [
    "d1={'a':100,'b':200,'c':300}\n",
    "d2={'a':300,'b':200,'d':400}\n",
    "d3={}\n",
    "for key in d2:\n",
    "    if key in d1:\n",
    "        d3[key]=d2[key]+d1[key]\n",
    "    else:\n",
    "        d3[key]=d2[key]\n",
    "        \n",
    "for key in d1:\n",
    "    if not key in d2:\n",
    "        d3[key] = d1[key]\n",
    "print(d3)"
   ]
  },
  {
   "cell_type": "code",
   "execution_count": 7,
   "id": "81f7e8cf",
   "metadata": {},
   "outputs": [
    {
     "name": "stdout",
     "output_type": "stream",
     "text": [
      "Type a number: 8\n",
      "{1: 1, 2: 4, 3: 9, 4: 16, 5: 25, 6: 36, 7: 49, 8: 64}\n"
     ]
    }
   ],
   "source": [
    "number = int(input(\"Type a number: \"))\n",
    "\n",
    "numberDict = {}\n",
    "for i in range(1, number+1):\n",
    "    numberDict[i] = i*i\n",
    "\n",
    "print(numberDict)"
   ]
  },
  {
   "cell_type": "code",
   "execution_count": 21,
   "id": "6d6c3a6e",
   "metadata": {},
   "outputs": [
    {
     "data": {
      "text/plain": [
       "[7, 1, 7, 1, 10, 4, 3, 0, 0, 10, 1, 9, 10, 9, 1, 9, 1, 10, 8, 4]"
      ]
     },
     "execution_count": 21,
     "metadata": {},
     "output_type": "execute_result"
    }
   ],
   "source": [
    "import random\n",
    "l = [random.randint(0,10) for i in range(20)]\n",
    "l\n"
   ]
  },
  {
   "cell_type": "code",
   "execution_count": 33,
   "id": "4183999d",
   "metadata": {},
   "outputs": [
    {
     "name": "stdout",
     "output_type": "stream",
     "text": [
      "10\n"
     ]
    }
   ],
   "source": [
    "def maximum (l):\n",
    "    max_=l[0]\n",
    "    for x in l:\n",
    "\n",
    "        if(x > max_):\n",
    "            max_=x\n",
    "    return max_\n",
    "print(maximum(l))\n"
   ]
  },
  {
   "cell_type": "code",
   "execution_count": null,
   "id": "011dc597",
   "metadata": {},
   "outputs": [],
   "source": []
  }
 ],
 "metadata": {
  "kernelspec": {
   "display_name": "python3",
   "language": "python",
   "name": "ds"
  },
  "language_info": {
   "codemirror_mode": {
    "name": "ipython",
    "version": 3
   },
   "file_extension": ".py",
   "mimetype": "text/x-python",
   "name": "python",
   "nbconvert_exporter": "python",
   "pygments_lexer": "ipython3",
   "version": "3.7.13"
  }
 },
 "nbformat": 4,
 "nbformat_minor": 5
}
